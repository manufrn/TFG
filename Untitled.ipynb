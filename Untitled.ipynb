{
 "cells": [
  {
   "cell_type": "code",
   "execution_count": 1,
   "id": "4736b0fe",
   "metadata": {},
   "outputs": [],
   "source": [
    "from tikz import *"
   ]
  },
  {
   "cell_type": "code",
   "execution_count": 65,
   "id": "1f4acf13",
   "metadata": {},
   "outputs": [
    {
     "name": "stdout",
     "output_type": "stream",
     "text": [
      "0.995\n",
      "0.96\n",
      "0.92\n",
      "0.9\n"
     ]
    },
    {
     "data": {
      "text/html": [
       "<div style=\"background-color:#e0e0e0;margin:0\">\n",
       "  <div>\n",
       "    <div style=\"padding:10px;float:left\">      <img src=\"data:image/png;base64,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\">\n",
       "    </div>\n",
       "    <pre\n",
       "        style=\"width:47%;margin:0;padding:10px;float:right;white-space:pre-wrap;font-size:smaller\"\n",
       "        >\\begin{tikzpicture}[scale=10,line cap=round]\n",
       "\\begin{scope}\n",
       "\\draw[-&gt;] (-1,1) -- (-1,0) node[below] {$y$} coordinate (y axis);\n",
       "\\draw[yshift=0 cm,xshift=-1 cm] (0.1pt,0pt) -- (-0.1pt,0pt) node[left,fill=white] {$200$};\n",
       "\\draw[yshift=0.1 cm,xshift=-1 cm] (0.1pt,0pt) -- (-0.1pt,0pt) node[left,fill=white] {$180$};\n",
       "\\draw[yshift=0.2 cm,xshift=-1 cm] (0.1pt,0pt) -- (-0.1pt,0pt) node[left,fill=white] {$160$};\n",
       "\\draw[yshift=0.3 cm,xshift=-1 cm] (0.1pt,0pt) -- (-0.1pt,0pt) node[left,fill=white] {$140$};\n",
       "\\draw[yshift=0.4 cm,xshift=-1 cm] (0.1pt,0pt) -- (-0.1pt,0pt) node[left,fill=white] {$120$};\n",
       "\\draw[yshift=0.5 cm,xshift=-1 cm] (0.1pt,0pt) -- (-0.1pt,0pt) node[left,fill=white] {$100$};\n",
       "\\draw[yshift=0.6 cm,xshift=-1 cm] (0.1pt,0pt) -- (-0.1pt,0pt) node[left,fill=white] {$80$};\n",
       "\\draw[yshift=0.7 cm,xshift=-1 cm] (0.1pt,0pt) -- (-0.1pt,0pt) node[left,fill=white] {$60$};\n",
       "\\draw[yshift=0.8 cm,xshift=-1 cm] (0.1pt,0pt) -- (-0.1pt,0pt) node[left,fill=white] {$40$};\n",
       "\\draw[yshift=0.9 cm,xshift=-1 cm] (0.1pt,0pt) -- (-0.1pt,0pt) node[left,fill=white] {$20$};\n",
       "\\draw[yshift=1 cm,xshift=-1 cm] (0.1pt,0pt) -- (-0.1pt,0pt) node[left,fill=white] {$0$};\n",
       "\\draw[yshift=0.995 cm,xshift=-0.5 cm] (0.1pt,0pt) -- (-0.1pt,0pt) node[left,fill=white] {$1$};\n",
       "\\draw[yshift=0.96 cm,xshift=-0.5 cm] (0.1pt,0pt) -- (-0.1pt,0pt) node[left,fill=white] {$1$};\n",
       "\\draw[yshift=0.92 cm,xshift=-0.5 cm] (0.1pt,0pt) -- (-0.1pt,0pt) node[left,fill=white] {$1$};\n",
       "\\draw[yshift=0.9 cm,xshift=-0.5 cm] (0.1pt,0pt) -- (-0.1pt,0pt) node[left,fill=white] {$1$};\n",
       "\\end{scope}\n",
       "\\tikzset{important line/.style={very thick}}\n",
       "\\colorlet{anglecolor}{green!50!black}\n",
       "\\colorlet{sincolor}{red}\n",
       "\\colorlet{coscolor}{blue}\n",
       "\\colorlet{tancolor}{orange!80!black}\n",
       "\\end{tikzpicture}</pre>\n",
       "  </div>\n",
       "  <div style=\"clear:both\"></div>\n",
       "</div>"
      ],
      "text/plain": [
       "<IPython.core.display.HTML object>"
      ]
     },
     "metadata": {},
     "output_type": "display_data"
    }
   ],
   "source": [
    "pic = Picture(scale=10, line_cap='round')\n",
    "scope = pic.scope()\n",
    "## define styles\n",
    "pic.style('important line', very_thick=True)\n",
    "\n",
    "# define colors\n",
    "pic.colorlet('anglecolor', 'green!50!black')\n",
    "pic.colorlet('sincolor', 'red')\n",
    "pic.colorlet('coscolor', 'blue')\n",
    "pic.colorlet('tancolor', 'orange!80!black')\n",
    "\n",
    "# background grid\n",
    "\n",
    "# circle\n",
    "#pic.draw((0, 0), circle(radius=1))\n",
    "\n",
    "# vertical axis and label\n",
    "scope.draw((-1, 1), lineto((-1, 0)), node('$y$', below=True), coordinate(name='y axis'),\n",
    "    opt='->')\n",
    "\n",
    "for y in [0, 0.1, 0.2, 0.3, 0.4, 0.5, 0.6, 0.7, 0.8, 0.9, 1]:\n",
    "    node_value = round((-y + 1)*200)\n",
    "    scope.draw('(0.1pt,0pt)', lineto('(-0.1pt,0pt)'), node(f'${node_value}$', left=True, fill='white'),\n",
    "        yshift=f'{y} cm', xshift=f'{-1} cm')\n",
    "\n",
    "depths_56 = [1, 8, 16, 20]\n",
    "for i in depths_56:\n",
    "    node_pos = -(i/200 - 1)\n",
    "    print(node_pos)\n",
    "    scope.draw('(0.1pt,0pt)', lineto('(-0.1pt,0pt)'), node(f'${1}$', left=True, fill='white'),\n",
    "        yshift=f'{node_pos} cm', xshift=f'{-0.5} cm')\n",
    "\n",
    "pic.demo(dpi=110)\n",
    "\n"
   ]
  },
  {
   "cell_type": "code",
   "execution_count": null,
   "id": "3ff453b3",
   "metadata": {},
   "outputs": [],
   "source": []
  }
 ],
 "metadata": {
  "kernelspec": {
   "display_name": "Python 3.10 (ipykernel)",
   "language": "python",
   "name": "python3.10"
  },
  "language_info": {
   "codemirror_mode": {
    "name": "ipython",
    "version": 3
   },
   "file_extension": ".py",
   "mimetype": "text/x-python",
   "name": "python",
   "nbconvert_exporter": "python",
   "pygments_lexer": "ipython3",
   "version": "3.10.9"
  }
 },
 "nbformat": 4,
 "nbformat_minor": 5
}
