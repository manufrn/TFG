{
 "cells": [
  {
   "cell_type": "code",
   "execution_count": 15,
   "id": "730ad091",
   "metadata": {},
   "outputs": [
    {
     "name": "stdout",
     "output_type": "stream",
     "text": [
      "The autoreload extension is already loaded. To reload it, use:\n",
      "  %reload_ext autoreload\n"
     ]
    }
   ],
   "source": [
    "%load_ext autoreload\n",
    "%autoreload 2\n",
    "%matplotlib inline\n",
    "sys.path.append('/home/manu/TFG_repo/scripts')  # make modules in scripts folder callable from notebooks"
   ]
  },
  {
   "cell_type": "code",
   "execution_count": 16,
   "id": "ce334d17",
   "metadata": {},
   "outputs": [],
   "source": [
    "import numpy as np\n",
    "import matplotlib.pyplot as plt\n",
    "from scipy.io import loadmat\n",
    "from scipy.interpolate import interp1d\n",
    "from datetime import datetime, timedelta\n",
    "from datetime import timezone\n",
    "import seaborn as sns\n",
    "from numba import njit\n",
    "sys.path.append('/home/manu/TFG_repo/scripts')"
   ]
  },
  {
   "cell_type": "code",
   "execution_count": 17,
   "id": "d47594b0",
   "metadata": {},
   "outputs": [],
   "source": [
    "from config import data_dir\n",
    "from analysis_routines import *\n",
    "from ploting_routines import *\n",
    "plt.style.use('/home/manu/TFG_repo/notebooks/notebook.mplstyle')"
   ]
  },
  {
   "cell_type": "code",
   "execution_count": 21,
   "id": "d9608177",
   "metadata": {},
   "outputs": [],
   "source": [
    "data = loadmat(data_dir / 'raw' / 'AGL_buoy' / 'AGL_ocean_meteo.mat')"
   ]
  },
  {
   "cell_type": "code",
   "execution_count": 23,
   "id": "d2c8715d",
   "metadata": {},
   "outputs": [],
   "source": [
    "date_epoch = datenum_to_epoch(np.squeeze(data['datet']))\n",
    "date = np.array([datetime.utcfromtimestamp(i) for i in date_epoch])"
   ]
  },
  {
   "cell_type": "code",
   "execution_count": 33,
   "id": "1a642278",
   "metadata": {},
   "outputs": [
    {
     "name": "stdout",
     "output_type": "stream",
     "text": [
      "(array([], dtype=int64),)\n"
     ]
    }
   ],
   "source": [
    "print(np.nonzero((date[1:] - date[:-1]) != timedelta(hours=1)))"
   ]
  },
  {
   "cell_type": "code",
   "execution_count": 34,
   "id": "2b9120d0",
   "metadata": {},
   "outputs": [
    {
     "name": "stdout",
     "output_type": "stream",
     "text": [
      "{'__header__': b'MATLAB 5.0 MAT-file, Platform: PCWIN64, Created on: Wed Apr  6 11:22:59 2022', '__version__': '1.0', '__globals__': [], 'air_pr': array([[       nan],\n",
      "       [1013.027  ],\n",
      "       [1013.027  ],\n",
      "       ...,\n",
      "       [1001.36719],\n",
      "       [1002.53906],\n",
      "       [1003.90625]]), 'air_tem': array([[     nan],\n",
      "       [18.828  ],\n",
      "       [18.828  ],\n",
      "       ...,\n",
      "       [14.90625],\n",
      "       [13.88086],\n",
      "       [14.4082 ]]), 'datet': array([[733224.        ],\n",
      "       [733224.04166667],\n",
      "       [733224.08333333],\n",
      "       ...,\n",
      "       [738136.58333333],\n",
      "       [738136.625     ],\n",
      "       [738136.66666667]]), 'hum': array([[     nan],\n",
      "       [89.375  ],\n",
      "       [89.375  ],\n",
      "       ...,\n",
      "       [73.78906],\n",
      "       [74.64844],\n",
      "       [78.94531]]), 'lat': array([[43.83545],\n",
      "       [43.84033],\n",
      "       [43.84277],\n",
      "       ...,\n",
      "       [43.896  ],\n",
      "       [43.89453],\n",
      "       [43.89307]]), 'lon': array([[-3.78418],\n",
      "       [-3.78418],\n",
      "       [-3.78906],\n",
      "       ...,\n",
      "       [-3.78174],\n",
      "       [-3.78418],\n",
      "       [-3.78418]]), 'salt': array([[        nan],\n",
      "       [35.37628238],\n",
      "       [35.37628238],\n",
      "       ...,\n",
      "       [35.48246083],\n",
      "       [35.4857023 ],\n",
      "       [35.48183214]]), 'sea_tem': array([[     nan],\n",
      "       [19.395  ],\n",
      "       [19.395  ],\n",
      "       ...,\n",
      "       [14.42993],\n",
      "       [14.41162],\n",
      "       [14.39514]]), 'wind_dir': array([[     nan],\n",
      "       [192.656 ],\n",
      "       [239.063 ],\n",
      "       ...,\n",
      "       [284.0625],\n",
      "       [289.6875],\n",
      "       [281.25  ]]), 'wind_speed': array([[     nan],\n",
      "       [ 2.109  ],\n",
      "       [ 2.813  ],\n",
      "       ...,\n",
      "       [14.76563],\n",
      "       [14.29688],\n",
      "       [11.71875]])}\n"
     ]
    }
   ],
   "source": [
    "print(data)"
   ]
  },
  {
   "cell_type": "code",
   "execution_count": null,
   "id": "dea118e1",
   "metadata": {},
   "outputs": [],
   "source": []
  }
 ],
 "metadata": {
  "kernelspec": {
   "display_name": "Python 3.10 (ipykernel)",
   "language": "python",
   "name": "python3.10"
  },
  "language_info": {
   "codemirror_mode": {
    "name": "ipython",
    "version": 3
   },
   "file_extension": ".py",
   "mimetype": "text/x-python",
   "name": "python",
   "nbconvert_exporter": "python",
   "pygments_lexer": "ipython3",
   "version": "3.10.8"
  }
 },
 "nbformat": 4,
 "nbformat_minor": 5
}
