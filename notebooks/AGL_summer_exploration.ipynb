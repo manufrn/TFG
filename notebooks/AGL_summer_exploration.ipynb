{
 "cells": [
  {
   "cell_type": "code",
   "execution_count": 1,
   "id": "f593046c",
   "metadata": {},
   "outputs": [],
   "source": [
    "%load_ext autoreload\n",
    "%autoreload 2\n",
    "%matplotlib inline\n",
    "sys.path.append('/home/manu/TFG_repo/scripts')  # make modules in scripts folder callable from notebooks"
   ]
  },
  {
   "cell_type": "code",
   "execution_count": 2,
   "id": "abe279ef",
   "metadata": {},
   "outputs": [],
   "source": [
    "import numpy as np\n",
    "import matplotlib.pyplot as plt\n",
    "from scipy.io import loadmat\n",
    "sys.path.append('/home/manu/TFG_repo/scripts')"
   ]
  },
  {
   "cell_type": "code",
   "execution_count": 3,
   "id": "61f8032f",
   "metadata": {},
   "outputs": [],
   "source": [
    "from config import data_dir\n",
    "from analysis_functions import *\n",
    "plt.style.use('/home/manu/TFG_repo/notebooks/notebook.mplstyle')"
   ]
  },
  {
   "cell_type": "code",
   "execution_count": null,
   "id": "b9cfee0d",
   "metadata": {},
   "outputs": [],
   "source": []
  }
 ],
 "metadata": {
  "kernelspec": {
   "display_name": "Python 3.10 (ipykernel)",
   "language": "python",
   "name": "python3.10"
  },
  "language_info": {
   "codemirror_mode": {
    "name": "ipython",
    "version": 3
   },
   "file_extension": ".py",
   "mimetype": "text/x-python",
   "name": "python",
   "nbconvert_exporter": "python",
   "pygments_lexer": "ipython3",
   "version": "3.10.8"
  }
 },
 "nbformat": 4,
 "nbformat_minor": 5
}
