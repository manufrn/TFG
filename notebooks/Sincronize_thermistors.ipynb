{
 "cells": [
  {
   "cell_type": "code",
   "execution_count": 1,
   "id": "d0da8c2b",
   "metadata": {},
   "outputs": [],
   "source": [
    "%load_ext autoreload\n",
    "%autoreload 2\n",
    "%matplotlib inline\n",
    "sys.path.append('/home/manu/TFG_repo/scripts')  # make modules in scripts folder callable from notebooks"
   ]
  },
  {
   "cell_type": "code",
   "execution_count": 1,
   "id": "ca4b6165",
   "metadata": {},
   "outputs": [],
   "source": [
    "import numpy as np\n",
    "import matplotlib.pyplot as plt\n",
    "from scipy.io import loadmat\n",
    "from datetime import datetime, timedelta, timezone\n",
    "from datetime import timezone\n",
    "sys.path.append('/home/manu/TFG_repo/scripts')"
   ]
  },
  {
   "cell_type": "code",
   "execution_count": 2,
   "id": "0111abea",
   "metadata": {},
   "outputs": [],
   "source": [
    "from config import data_dir\n",
    "from analysis_functions import *\n",
    "from gen_time_series_better import datenum_to_epoch, get_SBE\n",
    "plt.style.use('/home/manu/TFG_repo/notebooks/notebook.mplstyle')"
   ]
  },
  {
   "cell_type": "markdown",
   "id": "3ee25904",
   "metadata": {},
   "source": [
    "#### Cargamos directamente las fechas de los dos SBE37 y de uno de los SB56 (sabemos que los SBE56 están sincronizados)"
   ]
  },
  {
   "cell_type": "code",
   "execution_count": 3,
   "id": "7a4c7a63",
   "metadata": {},
   "outputs": [],
   "source": [
    "datafile1 = data_dir / 'raw' / 'thermistor_chain' / 'AGL_1' / 'SBE37' / 'SBE37346520190409.mat'\n",
    "datafile2 = data_dir / 'raw' / 'thermistor_chain' / 'AGL_1' / 'SBE37' / 'SBE37567420190409.mat'\n",
    "datafile3 = data_dir / 'raw' / 'thermistor_chain' / 'AGL_1' / 'SBE56' / 'AGL_SBE05600218_2019-04-09.mat'"
   ]
  },
  {
   "cell_type": "code",
   "execution_count": 4,
   "id": "dd8edc3a",
   "metadata": {},
   "outputs": [],
   "source": [
    "up_37_mat = np.squeeze(loadmat(datafile2)['dates'])\n",
    "dwn_37_mat = np.squeeze(loadmat(datafile1)['dates'])\n",
    "date_56_mat = np.squeeze(loadmat(datafile3)['dates'])\n",
    "\n",
    "up_37_epoch = list(map(datenum_to_epoch, up_37_mat))\n",
    "dwn_37_epoch = list(map(datenum_to_epoch, dwn_37_mat))\n",
    "date_56_epoch = list(map(datenum_to_epoch, date_56_mat))\n",
    "\n",
    "up_37 = np.array([datetime.utcfromtimestamp(i) for i in up_37_epoch])\n",
    "dwn_37 = np.array([datetime.utcfromtimestamp(i) for i in dwn_37_epoch])\n",
    "date_56 = np.array([datetime.utcfromtimestamp(i) for i in date_56_epoch])"
   ]
  },
  {
   "cell_type": "markdown",
   "id": "6cfc9356",
   "metadata": {},
   "source": [
    "### Sincronización relativa entre los dos SBE37 "
   ]
  },
  {
   "cell_type": "code",
   "execution_count": 5,
   "id": "cbb64d91",
   "metadata": {},
   "outputs": [
    {
     "name": "stdout",
     "output_type": "stream",
     "text": [
      "Up_37 va desde 2018-11-16 11:00:00 hasta 2019-04-09 08:10:00, con un total de 20720 medidas\n",
      "dwn_37 va desde 2018-11-16 11:00:00 hasta 2019-04-09 08:00:00, con un total de 41437 medidas\n",
      "date_56 va desde 2019-11-16 11:00:00 hasta 2020-04-08 13:01:24, con un total de 2489778 medidas\n",
      "Dwn_37 va desde 2018-11-16 11:00:00 hasta 2019-04-09 08:00:00, con un total de 41437 medidas\n",
      "Medidas en dwn_37 que no tienen un periodo de 5 minutos? (idx): []\n",
      "Medidas en up_37 que no tienen un periodo de 10 minutos? (idx): []\n",
      "Medidas en date_56 que no tienen un periodo de 5 segundos? (idx): [122]\n"
     ]
    }
   ],
   "source": [
    "print('Up_37 va desde {} hasta {}, con un total de {} medidas'.format(up_37[0], up_37[-1], len(up_37)))\n",
    "print('dwn_37 va desde {} hasta {}, con un total de {} medidas'.format(dwn_37[0], dwn_37[-1], len(dwn_37)))\n",
    "print('date_56 va desde {} hasta {}, con un total de {} medidas'.format(date_56[0], date_56[-1], len(date_56)))\n",
    "print('Dwn_37 va desde {} hasta {}, con un total de {} medidas'.format(dwn_37[0], dwn_37[-1], len(dwn_37)))\n",
    "print('Medidas en dwn_37 que no tienen un periodo de 5 minutos? (idx):',\n",
    "      (dwn_37[1:] - dwn_37[:-1] != timedelta(minutes=5)).nonzero()[0])\n",
    "print('Medidas en up_37 que no tienen un periodo de 10 minutos? (idx):',\n",
    "     (up_37[1:] - up_37[:-1] != timedelta(minutes=10)).nonzero()[0])\n",
    "print('Medidas en date_56 que no tienen un periodo de 5 segundos? (idx):',\n",
    "     (date_56[1:] - date_56[:-1] != timedelta(seconds=5)).nonzero()[0])"
   ]
  },
  {
   "cell_type": "code",
   "execution_count": 6,
   "id": "dd262fe7",
   "metadata": {},
   "outputs": [],
   "source": [
    "a = np.nonzero(np.in1d(up_37, dwn_37))[0] # indices de las coincidencias de up_37 en dwn_37\n",
    "b = np.nonzero(np.in1d(dwn_37, up_37))[0] # indices de las coincidencias de dwn_37 en up_37"
   ]
  },
  {
   "cell_type": "code",
   "execution_count": 8,
   "id": "50b87ca6",
   "metadata": {},
   "outputs": [
    {
     "name": "stdout",
     "output_type": "stream",
     "text": [
      "Up_37 tiene 20719 coincidencias en dwn_37\n"
     ]
    }
   ],
   "source": [
    "print('Up_37 tiene {} coincidencias en dwn_37'.format(len(a))) "
   ]
  },
  {
   "cell_type": "markdown",
   "id": "9c345c5a",
   "metadata": {},
   "source": [
    "A la vista de lo anterior, se observa que toda las medidas de up_37 coinciden con una medida en dwn_37, excepto la última. De la libreta AGL_1_cleansing sabemos que los termistores salieron del agua el día 8, por lo que la serie temporal total se cortará en el punto indicado en dicha libreta (medida 2471040 para los 56). "
   ]
  },
  {
   "cell_type": "markdown",
   "id": "cab6da8d",
   "metadata": {},
   "source": [
    "En la serie AGL_1 de SBE56, sincronizada totalmente para todos los termistores, entre la entrada 122 y la 123 el periodo es de 4 segundos. De aquí en adelante pasa a ser 5 segundos otra vez. Como la serie empieza en una hora redonda (11:00:00) y hasta la medida 122 el periodo es de 5 segundos, de la medida 123 en adelante, la hora de los SBE56 nunca coincidirá con la de los SB37, que siempre es múltiplos de 5 minutos, segundos a 0. Para solucionar esto y poder sincronizar los SBE56 y 37 podemos añadir un timedelta de 1 segundo a la serie de SBE56, ya que no vamos a estudiar fenómenos a tan altas frecuencias como para que 1 segundo de disparidad afecte gravemente."
   ]
  },
  {
   "cell_type": "code",
   "execution_count": null,
   "id": "92fbb13c",
   "metadata": {},
   "outputs": [],
   "source": []
  },
  {
   "cell_type": "code",
   "execution_count": 7,
   "id": "7ee4aae9",
   "metadata": {},
   "outputs": [
    {
     "name": "stdout",
     "output_type": "stream",
     "text": [
      "2487606 2490629\n",
      "All SBE56 dates are synced. Generating 1d dates array\n"
     ]
    }
   ],
   "source": [
    "path_SBE56 = data_dir / 'raw' / 'thermistor_chain' / 'AGL_1' / 'SBE56'\n",
    "pres_SBE56 = np.array([1, 8, 23, 28, 33, 43, 53, 63, 78, 96, 108, 126, \n",
    "                           151, 176])\n",
    "order_SBE56 = ['0218', '5894', '0221', '5895', '0222', '0225', '0226',\n",
    "                   '5897', '5899', '0235', '5900', '5901', '5902', '5903']\n",
    "temp_SBE56, pres_SBE56, date_SBE56 = get_SBE(path_SBE56, pres_SBE56, \n",
    "                                                 order_SBE56, n_max=2471041)\n",
    "\n",
    "datafile_low_SBE37 = data_dir / 'raw' / 'thermistor_chain' / 'AGL_1' / 'SBE37' / 'SBE37346520190409.mat'\n",
    "datafile_up_SBE37 = data_dir / 'raw' / 'thermistor_chain' / 'AGL_1' / 'SBE37' / 'SBE37567420190409.mat'\n",
    "up_SBE37 =  loadmat(datafile_up_SBE37)\n",
    "low_SBE37 = loadmat(datafile_low_SBE37)\n",
    "temp_up_SBE37, date_up_SBE37 = np.squeeze(up_SBE37['tem']), np.squeeze(up_SBE37['dates'])\n",
    "temp_low_SBE37, date_low_SBE37 = np.squeeze(low_SBE37['tem']), np.squeeze(low_SBE37['dates'])\n",
    "date_up_SBE37 = datenum_to_epoch(date_up_SBE37)\n",
    "date_low_SBE37 = datenum_to_epoch(date_low_SBE37)"
   ]
  },
  {
   "cell_type": "code",
   "execution_count": 8,
   "id": "a6eeeff3",
   "metadata": {},
   "outputs": [],
   "source": [
    "press_low_SBE37, press_up_SBE37 = np.squeeze(low_SBE37['pre']), np.squeeze(up_SBE37['pre'])"
   ]
  },
  {
   "cell_type": "code",
   "execution_count": 9,
   "id": "7c0d62d2",
   "metadata": {},
   "outputs": [],
   "source": [
    "# para poner los SBE56 con el mismo año que los 37\n",
    "date_SBE56 -= int(timedelta(days=365).total_seconds())"
   ]
  },
  {
   "cell_type": "code",
   "execution_count": 10,
   "id": "aea5e97f",
   "metadata": {},
   "outputs": [],
   "source": [
    "date_SBE56[123:] += 1"
   ]
  },
  {
   "cell_type": "code",
   "execution_count": 11,
   "id": "df47b6a4",
   "metadata": {},
   "outputs": [],
   "source": [
    "#max_up_37 = np.argmax((temp_SBE37[0] == temp_SBE56)[::-1])\n",
    "last_up = np.nonzero(np.in1d(date_SBE56, date_up_SBE37))[0][-1] # indices de las coincidencias de up_37 en dwn_37\n",
    "last_low = np.nonzero(np.in1d(date_SBE56, date_low_SBE37))[0][-1] # indices de las coincidencias de up_37 en dwn_37"
   ]
  },
  {
   "cell_type": "code",
   "execution_count": 12,
   "id": "d107e50b",
   "metadata": {},
   "outputs": [],
   "source": [
    "# array de temperaturas\n",
    "masked_temp = np.ma.masked_all_like(np.zeros((len(date_SBE56), 16)))\n",
    "masked_temp[:, 0:6] = temp_SBE56[:, 0:6]\n",
    "masked_temp[0:last_up+1:120, 6] = temp_up_SBE37[:np.where(date_up_SBE37 == date_SBE56[last_up])[0][0] +1]\n",
    "masked_temp[0:last_low+1:60, -1] = temp_low_SBE37[:np.where(date_low_SBE37 == date_SBE56[last_low])[0][0] +1]\n",
    "masked_temp[:, 7:-1] = temp_SBE56[:, 6:]"
   ]
  },
  {
   "cell_type": "code",
   "execution_count": 13,
   "id": "d7271bfa",
   "metadata": {},
   "outputs": [
    {
     "name": "stdout",
     "output_type": "stream",
     "text": [
      "Cada 120 elementos (10 min) de masked temp, hay 16 medidas: True\n",
      "Cada 60 elementos (5 min) de masked temp, hay 15 medidas o más: True\n"
     ]
    }
   ],
   "source": [
    "print('Cada 120 elementos (10 min) de masked temp, hay 16 medidas:', (masked_temp[::120].count(axis=1)==16).all())\n",
    "print('Cada 60 elementos (5 min) de masked temp, hay 15 medidas o más:', (masked_temp[::60].count(axis=1) >= 15).all())"
   ]
  },
  {
   "cell_type": "code",
   "execution_count": 14,
   "id": "be58192c",
   "metadata": {},
   "outputs": [],
   "source": [
    "# array de presiones\n",
    "masked_pres = np.ma.masked_all_like(masked_temp)\n",
    "masked_pres[:, 0:6] = pres_SBE56[None, :6]\n",
    "masked_pres[0:last_up+1:120, 6] = press_up_SBE37[:np.where(date_up_SBE37 == date_SBE56[last_up])[0][0] +1]\n",
    "masked_pres[:, 7:-1] = pres_SBE56[None, 6:]\n",
    "masked_pres[0:last_low+1:60, -1] = press_low_SBE37[:np.where(date_low_SBE37 == date_SBE56[last_low])[0][0] +1]"
   ]
  },
  {
   "cell_type": "code",
   "execution_count": 15,
   "id": "cbd47df5",
   "metadata": {},
   "outputs": [],
   "source": [
    "from netCDF4 import Dataset"
   ]
  },
  {
   "cell_type": "code",
   "execution_count": 64,
   "id": "b113d0d5",
   "metadata": {},
   "outputs": [],
   "source": [
    "filename = data_dir / 'time_series' / 'processed' / 'AGL_1_37_56_cropped.nc'\n",
    "dim_pres = masked_pres.shape[1]\n",
    "dim_time = len(date_SBE56[:380])\n",
    "latittude, longitude = 43.789, 3.782 # latitude and longitude of AGL buoy\n",
    "\n",
    "with Dataset(filename, mode='w', format='NETCDF4') as ds:\n",
    "    ds.description = 'Time series of AGL buy thermistor chain from 2018-11-16 11:00:00 to 2019-04-08 11:00:00'\n",
    "    ds.title = 'AGL_1 thermistor chain series'\n",
    "    # dimensions\n",
    "    ds.createDimension('time', dim_time)\n",
    "    ds.createDimension('pres', dim_pres)\n",
    "    ds.createDimension('lat', 1)\n",
    "    ds.createDimension('lon', 1)\n",
    "    \n",
    "    # variables\n",
    "    lat = ds.createVariable('lat', 'f4', ('lat',))\n",
    "    lon = ds.createVariable('lon', 'f4', ('lon',))\n",
    "    temp = ds.createVariable('temp', 'f8', ('time', 'pres',))\n",
    "    date = ds.createVariable('date', 'i4', ('time', ))\n",
    "    pres = ds.createVariable('pres', 'i4', ('time', 'pres', ))\n",
    "    \n",
    "    # asign data\n",
    "    lat[:] = latittude\n",
    "    lon[:] = longitude\n",
    "    temp[:, :] = masked_temp[:380]\n",
    "    date[:] = date_SBE56[:380]\n",
    "    pres[:, :] = masked_pres[:380]"
   ]
  }
 ],
 "metadata": {
  "kernelspec": {
   "display_name": "Python 3.10 (ipykernel)",
   "language": "python",
   "name": "python3.10"
  },
  "language_info": {
   "codemirror_mode": {
    "name": "ipython",
    "version": 3
   },
   "file_extension": ".py",
   "mimetype": "text/x-python",
   "name": "python",
   "nbconvert_exporter": "python",
   "pygments_lexer": "ipython3",
   "version": "3.10.8"
  }
 },
 "nbformat": 4,
 "nbformat_minor": 5
}
