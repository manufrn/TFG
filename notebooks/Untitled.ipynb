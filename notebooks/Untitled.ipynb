{
 "cells": [
  {
   "cell_type": "code",
   "execution_count": null,
   "id": "90db317c",
   "metadata": {},
   "outputs": [],
   "source": [
    "%load_ext autoreload\n",
    "%autoreload 2\n",
    "%matplotlib inline\n",
    "sys.path.append('/home/manu/TFG_repo/scripts')  # make modules in scripts folder callable from notebooks"
   ]
  },
  {
   "cell_type": "code",
   "execution_count": null,
   "id": "61ddba48",
   "metadata": {},
   "outputs": [],
   "source": [
    "import numpy as np\n",
    "import matplotlib.pyplot as plt\n",
    "from scipy.io import loadmat\n",
    "sys.path.append('/home/manu/TFG_repo/scripts')"
   ]
  },
  {
   "cell_type": "code",
   "execution_count": null,
   "id": "73c319df",
   "metadata": {},
   "outputs": [],
   "source": [
    "from config import data_dir\n",
    "from analysis_functions import *\n",
    "plt.style.use('/home/manu/TFG_repo/notebooks/notebook.mplstyle')"
   ]
  },
  {
   "cell_type": "code",
   "execution_count": 14,
   "id": "66cb394a",
   "metadata": {},
   "outputs": [],
   "source": [
    "temp, pres, date = load_time_series('AGL_20181116_chain.nc')"
   ]
  },
  {
   "cell_type": "code",
   "execution_count": 15,
   "id": "c7e49271",
   "metadata": {},
   "outputs": [],
   "source": [
    "df_fit = load_SHDR_fit('AGL_1_SB56_fit.csv')"
   ]
  },
  {
   "cell_type": "code",
   "execution_count": 18,
   "id": "32e5b4ab",
   "metadata": {},
   "outputs": [
    {
     "data": {
      "text/plain": [
       "52.21645812765153"
      ]
     },
     "execution_count": 18,
     "metadata": {},
     "output_type": "execute_result"
    }
   ],
   "source": [
    "df_fit['D1'].std()"
   ]
  },
  {
   "cell_type": "code",
   "execution_count": 34,
   "id": "4433cfb4",
   "metadata": {},
   "outputs": [],
   "source": [
    "result_1 = df_fit.loc[10, ['D1', 'b2', 'c2', 'b3', 'a2', 'a1']].to_numpy()"
   ]
  },
  {
   "cell_type": "code",
   "execution_count": 37,
   "id": "92cdd81e",
   "metadata": {},
   "outputs": [],
   "source": [
    "def get_fit_limits(z, y, max_b2_c2=0.5, min_depth=10):\n",
    "    z = np.abs(z) # in case heights are defined negative\n",
    "\n",
    "    min_z, max_z = z.min(), z.max()\n",
    "    min_y, max_y = y.min(), y.max()\n",
    "    \n",
    "    lims = np.array([[1.0, max_z],    # D1\n",
    "            [0.0, max_b2_c2],    # b2\n",
    "            [0.0, max_b2_c2],    # c2\n",
    "            [0.0 if max_z < min_depth else - abs((max_y - min_y) / (max_z - min_z)), 0.0], # b3\n",
    "            [0.0, max_y - min_y],     # a2\n",
    "            [min_y, max_y]])          # a1\n",
    "\n",
    "    lims_min = lims[:, 0]\n",
    "    lims_max = lims[:, 1]\n",
    "    return lims_min, lims_max"
   ]
  },
  {
   "cell_type": "code",
   "execution_count": 56,
   "id": "ed6bb966",
   "metadata": {},
   "outputs": [],
   "source": [
    "\n",
    "result_1[1]=0.45\n",
    "v_min, v_max = 0.85 * result_1, 1.15 * result_1\n",
    "lims_min, lims_max = get_fit_limits(pres[10], temp[10])"
   ]
  },
  {
   "cell_type": "code",
   "execution_count": 62,
   "id": "597189c3",
   "metadata": {},
   "outputs": [
    {
     "ename": "TypeError",
     "evalue": "cannot unpack non-iterable int object",
     "output_type": "error",
     "traceback": [
      "\u001b[0;31m---------------------------------------------------------------------------\u001b[0m",
      "\u001b[0;31mTypeError\u001b[0m                                 Traceback (most recent call last)",
      "Cell \u001b[0;32mIn [62], line 1\u001b[0m\n\u001b[0;32m----> 1\u001b[0m a, b \u001b[38;5;241m=\u001b[39m \u001b[38;5;241m2\u001b[39m\n",
      "\u001b[0;31mTypeError\u001b[0m: cannot unpack non-iterable int object"
     ]
    }
   ],
   "source": []
  },
  {
   "cell_type": "code",
   "execution_count": 57,
   "id": "a791a420",
   "metadata": {},
   "outputs": [],
   "source": [
    "for i in range(6):\n",
    "    lim_min_d = min(v_min[i], v_max[i])\n",
    "    lim_max_d = max(v_min[i], v_max[i])\n",
    "    lims_min[i] = max(lims_min[i], lim_min_d)\n",
    "    lims_max[i] = min(lims_max[i], lim_max_d)\n",
    "    lims_delta = (lims_min, lims_max)"
   ]
  },
  {
   "cell_type": "code",
   "execution_count": 58,
   "id": "51db81eb",
   "metadata": {},
   "outputs": [
    {
     "name": "stdout",
     "output_type": "stream",
     "text": [
      "True\n",
      "True\n",
      "[ 4.51531572e+01  5.00000000e-01  0.00000000e+00 -3.35060537e-03\n",
      "  3.71665993e+00  1.56284000e+01]\n"
     ]
    }
   ],
   "source": [
    "print((lims_delta[0] >= lims_min).all())\n",
    "print((lims_delta[1] <= lims_max).all())\n",
    "print(lims_delta[1])"
   ]
  },
  {
   "cell_type": "code",
   "execution_count": 61,
   "id": "81ac4331",
   "metadata": {},
   "outputs": [
    {
     "name": "stdout",
     "output_type": "stream",
     "text": [
      "[33.374072731016625 0.3825 0.0 -0.00453317196888264 2.7470964684316934\n",
      " 13.242116000542358] [45.15315722431661 0.5 0.0 -0.00335060536830456 3.716659927878173 15.6284]\n"
     ]
    }
   ],
   "source": [
    "lims_min_delta, lims_max_delta = 0.85 * result_1, 1.15 * result_1\n",
    "for i in np.where(np.sign(result_1) < 0)[0]:\n",
    "    lims_min_delta[i], lims_max_delta[i] = lims_max_delta[i], lims_min_delta[i]\n",
    "\n",
    "\n",
    "lims_min = np.where(lims_min_delta >= lims_min, lims_min_delta,  lims_min)\n",
    "lims_max = np.where(lims_max_delta <= lims_max, lims_max_delta, lims_max)\n",
    "print(lims_min, lims_max)"
   ]
  },
  {
   "cell_type": "code",
   "execution_count": 59,
   "id": "0570fff9",
   "metadata": {},
   "outputs": [
    {
     "name": "stdout",
     "output_type": "stream",
     "text": [
      "[ 3.33740727e+01  3.82500000e-01  0.00000000e+00 -4.53317197e-03\n",
      "  2.74709647e+00  1.32421160e+01] [ 4.51531572e+01  5.00000000e-01  0.00000000e+00 -3.35060537e-03\n",
      "  3.71665993e+00  1.56284000e+01]\n"
     ]
    }
   ],
   "source": [
    "print(lims_min, lims_max)"
   ]
  },
  {
   "cell_type": "code",
   "execution_count": null,
   "id": "69f2cb16",
   "metadata": {},
   "outputs": [],
   "source": []
  }
 ],
 "metadata": {
  "kernelspec": {
   "display_name": "Python 3.10 (ipykernel)",
   "language": "python",
   "name": "python3.10"
  },
  "language_info": {
   "codemirror_mode": {
    "name": "ipython",
    "version": 3
   },
   "file_extension": ".py",
   "mimetype": "text/x-python",
   "name": "python",
   "nbconvert_exporter": "python",
   "pygments_lexer": "ipython3",
   "version": "3.10.8"
  }
 },
 "nbformat": 4,
 "nbformat_minor": 5
}
