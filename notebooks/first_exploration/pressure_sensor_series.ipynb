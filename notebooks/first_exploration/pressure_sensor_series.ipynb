{
 "cells": [
  {
   "cell_type": "code",
   "execution_count": 2,
   "id": "a5ecdf26",
   "metadata": {},
   "outputs": [],
   "source": [
    "%load_ext autoreload\n",
    "%autoreload 2\n",
    "%matplotlib inline\n",
    "sys.path.append('/home/manu/TFG_repo/scripts')  # make modules in scripts folder callable from notebooks"
   ]
  },
  {
   "cell_type": "code",
   "execution_count": 59,
   "id": "67672c05",
   "metadata": {},
   "outputs": [],
   "source": [
    "import sys\n",
    "import numpy as np\n",
    "import pandas as pd\n",
    "import matplotlib.pyplot as plt\n",
    "from datetime import datetime, timedelta\n",
    "from scipy.io import loadmat\n",
    "from processing_routines import datenum_to_epoch\n",
    "import netCDF4"
   ]
  },
  {
   "cell_type": "code",
   "execution_count": 6,
   "id": "df4dfeff",
   "metadata": {},
   "outputs": [],
   "source": [
    "from config import data_dir\n",
    "from gen_time_series"
   ]
  },
  {
   "cell_type": "code",
   "execution_count": 29,
   "id": "7999de38",
   "metadata": {},
   "outputs": [],
   "source": [
    "sensor_data = loadmat(data_dir / 'raw/preassure_sensor' / 'DanoisMoat-439923N-AQ1061-bott1092-20180818-20190829.mat')"
   ]
  },
  {
   "cell_type": "code",
   "execution_count": 99,
   "id": "53bbeecc",
   "metadata": {},
   "outputs": [],
   "source": [
    "save_path = data_dir / 'time_series' / 'pressure_sensor' / '20181116_DanoisMoat.csv'"
   ]
  },
  {
   "cell_type": "code",
   "execution_count": 162,
   "id": "9707b152",
   "metadata": {},
   "outputs": [],
   "source": [
    "datenum = np.squeeze(sensor_data['dates'])\n",
    "pres = np.squeeze(sensor_data['pre'])\n",
    "temp = np.squeeze(sensor_data['tem'])\n",
    "vel = np.squeeze(sensor_data['vel'])"
   ]
  },
  {
   "cell_type": "code",
   "execution_count": 31,
   "id": "a3d66495",
   "metadata": {},
   "outputs": [],
   "source": [
    "epoch = datenum_to_epoch(datenum)"
   ]
  },
  {
   "cell_type": "code",
   "execution_count": 32,
   "id": "4fdbcdd7",
   "metadata": {},
   "outputs": [],
   "source": [
    "datetime64 = np.array(epoch, dtype='datetime64[s]')"
   ]
  },
  {
   "cell_type": "code",
   "execution_count": 52,
   "id": "f7223be1",
   "metadata": {},
   "outputs": [],
   "source": [
    "i_0 = np.where(datetime64 == np.datetime64('2018-11-16T11'))[0][0]\n",
    "i_f = np.where(datetime64 == np.datetime64('2019-04-08T11'))[0][0]"
   ]
  },
  {
   "cell_type": "code",
   "execution_count": 167,
   "id": "6c1d1aa1",
   "metadata": {},
   "outputs": [],
   "source": [
    "epoch_series = epoch[i_0:i_f+1]\n",
    "datetime64_series = datetime64[i_0:i_f+1]\n",
    "pres_series = pres[i_0:i_f+1]\n",
    "temp_series = temp[i_0:i_f+1]\n",
    "vel_series = vel[i_0:i_f+1]"
   ]
  },
  {
   "cell_type": "code",
   "execution_count": 67,
   "id": "c7673314",
   "metadata": {},
   "outputs": [],
   "source": [
    "dim_time = len(epoch_series)\n",
    "with netCDF4.Dataset(save_path, mode='w', format='NETCDF4') as ds:\n",
    "        # dimensions\n",
    "        ds.createDimension('date', dim_time)\n",
    "        \n",
    "        # variables\n",
    "        date_ = ds.createVariable('date', 'i4', ('date',))\n",
    "        pres_ = ds.createVariable('pres', 'f8', ('date',))\n",
    "\n",
    "        date_[:] = epoch_series\n",
    "        pres_[:] = pres_series"
   ]
  },
  {
   "cell_type": "code",
   "execution_count": 168,
   "id": "37358aad",
   "metadata": {},
   "outputs": [],
   "source": [
    "df = pd.DataFrame(zip(datetime64_series, pres_series, temp_series, vel), columns=['date', 'pres', 'temp', 'vel'])"
   ]
  },
  {
   "cell_type": "code",
   "execution_count": 169,
   "id": "f28acf59",
   "metadata": {},
   "outputs": [
    {
     "data": {
      "text/html": [
       "<div>\n",
       "<style scoped>\n",
       "    .dataframe tbody tr th:only-of-type {\n",
       "        vertical-align: middle;\n",
       "    }\n",
       "\n",
       "    .dataframe tbody tr th {\n",
       "        vertical-align: top;\n",
       "    }\n",
       "\n",
       "    .dataframe thead th {\n",
       "        text-align: right;\n",
       "    }\n",
       "</style>\n",
       "<table border=\"1\" class=\"dataframe\">\n",
       "  <thead>\n",
       "    <tr style=\"text-align: right;\">\n",
       "      <th></th>\n",
       "      <th>date</th>\n",
       "      <th>pres</th>\n",
       "      <th>temp</th>\n",
       "      <th>vel</th>\n",
       "    </tr>\n",
       "  </thead>\n",
       "  <tbody>\n",
       "    <tr>\n",
       "      <th>0</th>\n",
       "      <td>2018-11-16 11:00:00</td>\n",
       "      <td>1061.731</td>\n",
       "      <td>9.789</td>\n",
       "      <td>3.2</td>\n",
       "    </tr>\n",
       "    <tr>\n",
       "      <th>1</th>\n",
       "      <td>2018-11-16 11:15:00</td>\n",
       "      <td>1061.704</td>\n",
       "      <td>9.800</td>\n",
       "      <td>6.6</td>\n",
       "    </tr>\n",
       "    <tr>\n",
       "      <th>2</th>\n",
       "      <td>2018-11-16 11:30:00</td>\n",
       "      <td>1061.632</td>\n",
       "      <td>9.800</td>\n",
       "      <td>8.0</td>\n",
       "    </tr>\n",
       "    <tr>\n",
       "      <th>3</th>\n",
       "      <td>2018-11-16 11:45:00</td>\n",
       "      <td>1061.585</td>\n",
       "      <td>9.788</td>\n",
       "      <td>6.2</td>\n",
       "    </tr>\n",
       "    <tr>\n",
       "      <th>4</th>\n",
       "      <td>2018-11-16 12:00:00</td>\n",
       "      <td>1061.469</td>\n",
       "      <td>9.763</td>\n",
       "      <td>4.2</td>\n",
       "    </tr>\n",
       "    <tr>\n",
       "      <th>...</th>\n",
       "      <td>...</td>\n",
       "      <td>...</td>\n",
       "      <td>...</td>\n",
       "      <td>...</td>\n",
       "    </tr>\n",
       "    <tr>\n",
       "      <th>13724</th>\n",
       "      <td>2019-04-08 10:00:00</td>\n",
       "      <td>1059.649</td>\n",
       "      <td>9.702</td>\n",
       "      <td>2.2</td>\n",
       "    </tr>\n",
       "    <tr>\n",
       "      <th>13725</th>\n",
       "      <td>2019-04-08 10:15:00</td>\n",
       "      <td>1059.527</td>\n",
       "      <td>9.693</td>\n",
       "      <td>4.3</td>\n",
       "    </tr>\n",
       "    <tr>\n",
       "      <th>13726</th>\n",
       "      <td>2019-04-08 10:30:00</td>\n",
       "      <td>1059.416</td>\n",
       "      <td>9.702</td>\n",
       "      <td>4.9</td>\n",
       "    </tr>\n",
       "    <tr>\n",
       "      <th>13727</th>\n",
       "      <td>2019-04-08 10:45:00</td>\n",
       "      <td>1059.389</td>\n",
       "      <td>9.698</td>\n",
       "      <td>4.0</td>\n",
       "    </tr>\n",
       "    <tr>\n",
       "      <th>13728</th>\n",
       "      <td>2019-04-08 11:00:00</td>\n",
       "      <td>1059.371</td>\n",
       "      <td>9.715</td>\n",
       "      <td>1.3</td>\n",
       "    </tr>\n",
       "  </tbody>\n",
       "</table>\n",
       "<p>13729 rows × 4 columns</p>\n",
       "</div>"
      ],
      "text/plain": [
       "                     date      pres   temp  vel\n",
       "0     2018-11-16 11:00:00  1061.731  9.789  3.2\n",
       "1     2018-11-16 11:15:00  1061.704  9.800  6.6\n",
       "2     2018-11-16 11:30:00  1061.632  9.800  8.0\n",
       "3     2018-11-16 11:45:00  1061.585  9.788  6.2\n",
       "4     2018-11-16 12:00:00  1061.469  9.763  4.2\n",
       "...                   ...       ...    ...  ...\n",
       "13724 2019-04-08 10:00:00  1059.649  9.702  2.2\n",
       "13725 2019-04-08 10:15:00  1059.527  9.693  4.3\n",
       "13726 2019-04-08 10:30:00  1059.416  9.702  4.9\n",
       "13727 2019-04-08 10:45:00  1059.389  9.698  4.0\n",
       "13728 2019-04-08 11:00:00  1059.371  9.715  1.3\n",
       "\n",
       "[13729 rows x 4 columns]"
      ]
     },
     "execution_count": 169,
     "metadata": {},
     "output_type": "execute_result"
    }
   ],
   "source": [
    "df"
   ]
  },
  {
   "cell_type": "code",
   "execution_count": 171,
   "id": "3c78bde7",
   "metadata": {},
   "outputs": [],
   "source": [
    "df.to_csv(save_path, index=False)"
   ]
  },
  {
   "cell_type": "code",
   "execution_count": null,
   "id": "421b818d",
   "metadata": {},
   "outputs": [],
   "source": []
  }
 ],
 "metadata": {
  "kernelspec": {
   "display_name": "Python 3.10 (ipykernel)",
   "language": "python",
   "name": "python3.10"
  },
  "language_info": {
   "codemirror_mode": {
    "name": "ipython",
    "version": 3
   },
   "file_extension": ".py",
   "mimetype": "text/x-python",
   "name": "python",
   "nbconvert_exporter": "python",
   "pygments_lexer": "ipython3",
   "version": "3.10.9"
  }
 },
 "nbformat": 4,
 "nbformat_minor": 5
}
