{
 "cells": [
  {
   "cell_type": "code",
   "execution_count": 3,
   "id": "440489c6",
   "metadata": {},
   "outputs": [],
   "source": [
    "%load_ext autoreload\n",
    "%autoreload 2\n",
    "%matplotlib inline\n",
    "sys.path.append('/home/manu/TFG_repo/scripts')  # make modules in scripts folder callable from notebooks"
   ]
  },
  {
   "cell_type": "code",
   "execution_count": 4,
   "id": "689b6f19",
   "metadata": {},
   "outputs": [],
   "source": [
    "import numpy as np\n",
    "import matplotlib.pyplot as plt\n",
    "from scipy.io import loadmat\n",
    "from scipy.interpolate import interp1d\n",
    "from datetime import datetime, timedelta\n",
    "from datetime import timezone\n",
    "import seaborn as sns\n",
    "from numba import njit\n",
    "sys.path.append('/home/manu/TFG_repo/scripts')"
   ]
  },
  {
   "cell_type": "code",
   "execution_count": 6,
   "id": "e4f2ff76",
   "metadata": {},
   "outputs": [],
   "source": [
    "from config import data_dir\n",
    "from analysis_routines import *\n",
    "from ploting_routines import *\n",
    "from processing_routines import *\n",
    "\n",
    "plt.style.use('/home/manu/TFG_repo/notebooks/notebook.mplstyle')"
   ]
  },
  {
   "cell_type": "code",
   "execution_count": 10,
   "id": "fb6e960e",
   "metadata": {},
   "outputs": [
    {
     "name": "stdout",
     "output_type": "stream",
     "text": [
      "[PosixPath('/home/manu/TFG_repo/data/raw/thermistor_chain/AGL_Octubre_2020/SBE56/Data_May_Oct_2020_SBE56.mat')]\n"
     ]
    },
    {
     "ename": "ValueError",
     "evalue": "min() arg is an empty sequence",
     "output_type": "error",
     "traceback": [
      "\u001b[0;31m---------------------------------------------------------------------------\u001b[0m",
      "\u001b[0;31mValueError\u001b[0m                                Traceback (most recent call last)",
      "Cell \u001b[0;32mIn [10], line 1\u001b[0m\n\u001b[0;32m----> 1\u001b[0m SBE56 \u001b[38;5;241m=\u001b[39m \u001b[43mget_SBE56\u001b[49m\u001b[43m(\u001b[49m\u001b[43mdata_dir\u001b[49m\u001b[43m \u001b[49m\u001b[38;5;241;43m/\u001b[39;49m\u001b[43m \u001b[49m\u001b[38;5;124;43m'\u001b[39;49m\u001b[38;5;124;43mraw\u001b[39;49m\u001b[38;5;124;43m'\u001b[39;49m\u001b[43m \u001b[49m\u001b[38;5;241;43m/\u001b[39;49m\u001b[43m \u001b[49m\u001b[38;5;124;43m'\u001b[39;49m\u001b[38;5;124;43mthermistor_chain\u001b[39;49m\u001b[38;5;124;43m'\u001b[39;49m\u001b[43m \u001b[49m\u001b[38;5;241;43m/\u001b[39;49m\u001b[43m \u001b[49m\u001b[38;5;124;43m'\u001b[39;49m\u001b[38;5;124;43mAGL_Octubre_2020\u001b[39;49m\u001b[38;5;124;43m'\u001b[39;49m\u001b[43m \u001b[49m\u001b[38;5;241;43m/\u001b[39;49m\u001b[43m \u001b[49m\u001b[38;5;124;43m'\u001b[39;49m\u001b[38;5;124;43mSBE56\u001b[39;49m\u001b[38;5;124;43m'\u001b[39;49m\u001b[43m)\u001b[49m\n",
      "File \u001b[0;32m~/TFG_repo/scripts/processing_routines.py:40\u001b[0m, in \u001b[0;36mget_SBE56\u001b[0;34m(path, n_min, n_max)\u001b[0m\n\u001b[1;32m     36\u001b[0m raw_data \u001b[38;5;241m=\u001b[39m [loadmat(file) \u001b[38;5;28;01mfor\u001b[39;00m file \u001b[38;5;129;01min\u001b[39;00m mat_files]\n\u001b[1;32m     38\u001b[0m \u001b[38;5;66;03m# find shortest time series for a single thermistor and get index\u001b[39;00m\n\u001b[1;32m     39\u001b[0m \u001b[38;5;66;03m# not really necesarry if n_max is specified\u001b[39;00m\n\u001b[0;32m---> 40\u001b[0m max_idx \u001b[38;5;241m=\u001b[39m \u001b[38;5;28;43mmin\u001b[39;49m\u001b[43m(\u001b[49m\u001b[38;5;28;43mlen\u001b[39;49m\u001b[43m(\u001b[49m\u001b[43mthermistor\u001b[49m\u001b[43m[\u001b[49m\u001b[38;5;124;43m'\u001b[39;49m\u001b[38;5;124;43mtem\u001b[39;49m\u001b[38;5;124;43m'\u001b[39;49m\u001b[43m]\u001b[49m\u001b[43m)\u001b[49m\u001b[43m \u001b[49m\u001b[38;5;28;43;01mfor\u001b[39;49;00m\u001b[43m \u001b[49m\u001b[43mthermistor\u001b[49m\u001b[43m \u001b[49m\u001b[38;5;129;43;01min\u001b[39;49;00m\u001b[43m \u001b[49m\u001b[43mraw_data\u001b[49m\u001b[43m)\u001b[49m\n\u001b[1;32m     41\u001b[0m longest \u001b[38;5;241m=\u001b[39m \u001b[38;5;28mmax\u001b[39m(\u001b[38;5;28mlen\u001b[39m(thermistor[\u001b[38;5;124m'\u001b[39m\u001b[38;5;124mtem\u001b[39m\u001b[38;5;124m'\u001b[39m]) \u001b[38;5;28;01mfor\u001b[39;00m thermistor \u001b[38;5;129;01min\u001b[39;00m raw_data)\n\u001b[1;32m     43\u001b[0m \u001b[38;5;28;01mif\u001b[39;00m n_max \u001b[38;5;241m!=\u001b[39m \u001b[38;5;28;01mNone\u001b[39;00m:\n",
      "\u001b[0;31mValueError\u001b[0m: min() arg is an empty sequence"
     ]
    }
   ],
   "source": [
    "SBE56 = get_SBE56(data_dir / 'raw' / 'thermistor_chain' / 'AGL_Octubre_2020' / 'SBE56')"
   ]
  },
  {
   "cell_type": "code",
   "execution_count": 17,
   "id": "dd14ef83",
   "metadata": {},
   "outputs": [],
   "source": [
    "path = data_dir / 'raw' / 'thermistor_chain' / 'AGL_Octubre_2020' / 'SBE56'\n",
    "#a = np.loadtxt(path, skiprows=86)"
   ]
  },
  {
   "cell_type": "code",
   "execution_count": 20,
   "id": "4c7ed2ff",
   "metadata": {},
   "outputs": [
    {
     "name": "stdout",
     "output_type": "stream",
     "text": [
      "[PosixPath('/home/manu/TFG_repo/data/raw/thermistor_chain/AGL_Octubre_2020/SBE56/SBE05604776_2020-10-10.cnv'), PosixPath('/home/manu/TFG_repo/data/raw/thermistor_chain/AGL_Octubre_2020/SBE56/SBE05604777_2020-10-10.cnv'), PosixPath('/home/manu/TFG_repo/data/raw/thermistor_chain/AGL_Octubre_2020/SBE56/SBE05604778_2020-10-10.cnv'), PosixPath('/home/manu/TFG_repo/data/raw/thermistor_chain/AGL_Octubre_2020/SBE56/SBE05604779_2020-10-10.cnv'), PosixPath('/home/manu/TFG_repo/data/raw/thermistor_chain/AGL_Octubre_2020/SBE56/SBE05604780_2020-10-10.cnv'), PosixPath('/home/manu/TFG_repo/data/raw/thermistor_chain/AGL_Octubre_2020/SBE56/SBE05604781_2020-10-10.cnv'), PosixPath('/home/manu/TFG_repo/data/raw/thermistor_chain/AGL_Octubre_2020/SBE56/SBE05604782_2020-10-10.cnv'), PosixPath('/home/manu/TFG_repo/data/raw/thermistor_chain/AGL_Octubre_2020/SBE56/SBE05605894_2020-10-10.cnv'), PosixPath('/home/manu/TFG_repo/data/raw/thermistor_chain/AGL_Octubre_2020/SBE56/SBE05605895_2020-10-10.cnv'), PosixPath('/home/manu/TFG_repo/data/raw/thermistor_chain/AGL_Octubre_2020/SBE56/SBE05605896_2020-10-10.cnv'), PosixPath('/home/manu/TFG_repo/data/raw/thermistor_chain/AGL_Octubre_2020/SBE56/SBE05605897_2020-10-10.cnv'), PosixPath('/home/manu/TFG_repo/data/raw/thermistor_chain/AGL_Octubre_2020/SBE56/SBE05605900_2020-10-10.cnv'), PosixPath('/home/manu/TFG_repo/data/raw/thermistor_chain/AGL_Octubre_2020/SBE56/SBE05605901_2020-10-10.cnv'), PosixPath('/home/manu/TFG_repo/data/raw/thermistor_chain/AGL_Octubre_2020/SBE56/SBE05605902_2020-10-10.cnv'), PosixPath('/home/manu/TFG_repo/data/raw/thermistor_chain/AGL_Octubre_2020/SBE56/SBE05605903_2020-10-10.cnv')]\n"
     ]
    }
   ],
   "source": [
    "order = ['0218', '5894', '0221', '5895', '0222', '0225', '0226',\n",
    "                   '5897', '5899', '0235', '5900', '5901', '5902', '5903']\n",
    "\n",
    "cnv_files = sorted(Path(path).glob('*cnv')) \n",
    "print(cnv_files)"
   ]
  },
  {
   "cell_type": "code",
   "execution_count": null,
   "id": "308eeac4",
   "metadata": {},
   "outputs": [],
   "source": []
  }
 ],
 "metadata": {
  "kernelspec": {
   "display_name": "Python 3.10 (ipykernel)",
   "language": "python",
   "name": "python3.10"
  },
  "language_info": {
   "codemirror_mode": {
    "name": "ipython",
    "version": 3
   },
   "file_extension": ".py",
   "mimetype": "text/x-python",
   "name": "python",
   "nbconvert_exporter": "python",
   "pygments_lexer": "ipython3",
   "version": "3.10.8"
  }
 },
 "nbformat": 4,
 "nbformat_minor": 5
}
